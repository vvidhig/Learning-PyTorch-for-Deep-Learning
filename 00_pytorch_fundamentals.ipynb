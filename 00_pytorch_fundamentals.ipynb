{
 "cells": [
  {
   "cell_type": "code",
   "execution_count": 2,
   "id": "354475dd-fb91-4512-af9f-482ff813805e",
   "metadata": {},
   "outputs": [
    {
     "name": "stdout",
     "output_type": "stream",
     "text": [
      "2.2.2+cpu\n"
     ]
    }
   ],
   "source": [
    "import torch\n",
    "import pandas as pd\n",
    "import numpy as np\n",
    "import matplotlib.pyplot as plt\n",
    "print(torch.__version__)"
   ]
  },
  {
   "cell_type": "markdown",
   "id": "cfd9915c-74bb-43bb-9443-f187e291f1c5",
   "metadata": {},
   "source": [
    "# Introduction to Tensors"
   ]
  },
  {
   "cell_type": "markdown",
   "id": "6d492455-2357-4f42-a372-a0f47ddce509",
   "metadata": {},
   "source": [
    "### Creating Tensors"
   ]
  },
  {
   "cell_type": "code",
   "execution_count": 15,
   "id": "e949e918-3661-4c89-9286-d28fa0734a55",
   "metadata": {},
   "outputs": [
    {
     "data": {
      "text/plain": [
       "tensor(7)"
      ]
     },
     "execution_count": 15,
     "metadata": {},
     "output_type": "execute_result"
    }
   ],
   "source": [
    "#scalar\n",
    "scalar = torch.tensor(7) #in pyTorch, tensors are created like this\n",
    "scalar"
   ]
  },
  {
   "cell_type": "code",
   "execution_count": 7,
   "id": "e0145648-68f7-4ee1-9bea-04dcac363262",
   "metadata": {},
   "outputs": [
    {
     "data": {
      "text/plain": [
       "7"
      ]
     },
     "execution_count": 7,
     "metadata": {},
     "output_type": "execute_result"
    }
   ],
   "source": [
    "#to get the tensor-scalar back into the integer '7' form\n",
    "scalar.item()"
   ]
  },
  {
   "cell_type": "code",
   "execution_count": 8,
   "id": "d9ddfdff-9729-4205-b583-d04b2438a4a5",
   "metadata": {},
   "outputs": [
    {
     "data": {
      "text/plain": [
       "tensor([7, 7])"
      ]
     },
     "execution_count": 8,
     "metadata": {},
     "output_type": "execute_result"
    }
   ],
   "source": [
    "#vector\n",
    "vector = torch.tensor([7,7])\n",
    "vector"
   ]
  },
  {
   "cell_type": "code",
   "execution_count": 9,
   "id": "f536be3d-576d-43b1-bfda-6e553de3ea4b",
   "metadata": {},
   "outputs": [
    {
     "data": {
      "text/plain": [
       "(1, torch.Size([2]))"
      ]
     },
     "execution_count": 9,
     "metadata": {},
     "output_type": "execute_result"
    }
   ],
   "source": [
    "vector.ndim, vector.shape"
   ]
  },
  {
   "cell_type": "code",
   "execution_count": 10,
   "id": "0a336194-5959-4bc1-9339-2c2f695efc02",
   "metadata": {},
   "outputs": [
    {
     "data": {
      "text/plain": [
       "tensor([[ 7,  8],\n",
       "        [ 9, 10]])"
      ]
     },
     "execution_count": 10,
     "metadata": {},
     "output_type": "execute_result"
    }
   ],
   "source": [
    "#matrix\n",
    "matrix = torch.tensor([[7, 8],\n",
    "                        [9, 10]])\n",
    "matrix"
   ]
  },
  {
   "cell_type": "code",
   "execution_count": 11,
   "id": "cb2d077b-9e9c-423b-a10c-05a5abc686d5",
   "metadata": {},
   "outputs": [
    {
     "data": {
      "text/plain": [
       "(2, torch.Size([2, 2]))"
      ]
     },
     "execution_count": 11,
     "metadata": {},
     "output_type": "execute_result"
    }
   ],
   "source": [
    "matrix.ndim, matrix.shape"
   ]
  },
  {
   "cell_type": "code",
   "execution_count": 13,
   "id": "c3cd5f70-152b-480c-8e88-947b41383437",
   "metadata": {},
   "outputs": [
    {
     "data": {
      "text/plain": [
       "tensor([[[1, 2, 3],\n",
       "         [4, 5, 6],\n",
       "         [7, 8, 9]]])"
      ]
     },
     "execution_count": 13,
     "metadata": {},
     "output_type": "execute_result"
    }
   ],
   "source": [
    "#tensors\n",
    "tensors = torch.tensor([[[1,2,3],\n",
    "                         [4,5,6],\n",
    "                         [7,8,9]]])\n",
    "tensors"
   ]
  },
  {
   "cell_type": "code",
   "execution_count": 14,
   "id": "8e8e9db2-d0f9-4163-9086-4fe86cfd5742",
   "metadata": {},
   "outputs": [
    {
     "data": {
      "text/plain": [
       "(3, torch.Size([1, 3, 3]))"
      ]
     },
     "execution_count": 14,
     "metadata": {},
     "output_type": "execute_result"
    }
   ],
   "source": [
    "tensors.ndim, tensors.shape"
   ]
  },
  {
   "cell_type": "markdown",
   "id": "35eedd7c-b909-4b62-94b2-0d746174b72a",
   "metadata": {},
   "source": [
    " ### Random Tensors"
   ]
  },
  {
   "cell_type": "code",
   "execution_count": 18,
   "id": "6cea25d0-2bfb-446f-aca9-0a5995613a3b",
   "metadata": {},
   "outputs": [],
   "source": [
    "random_tensor = torch.rand(3, 4)"
   ]
  },
  {
   "cell_type": "code",
   "execution_count": 19,
   "id": "45fbf4f8-3792-4c37-aba3-e38b655326ad",
   "metadata": {},
   "outputs": [
    {
     "data": {
      "text/plain": [
       "tensor([[0.8005, 0.4598, 0.9235, 0.7265],\n",
       "        [0.7706, 0.2868, 0.2026, 0.6557],\n",
       "        [0.2204, 0.1998, 0.0582, 0.0920]])"
      ]
     },
     "execution_count": 19,
     "metadata": {},
     "output_type": "execute_result"
    }
   ],
   "source": [
    "random_tensor"
   ]
  },
  {
   "cell_type": "code",
   "execution_count": 20,
   "id": "10e6f28c-c90c-4694-98a7-897a5bf5a61c",
   "metadata": {},
   "outputs": [],
   "source": [
    "random_tensor = torch.rand(1, 10, 10)"
   ]
  },
  {
   "cell_type": "code",
   "execution_count": 21,
   "id": "a765ab87-5b55-4302-8a4d-3139bb57f0a8",
   "metadata": {},
   "outputs": [
    {
     "data": {
      "text/plain": [
       "tensor([[[0.6355, 0.0215, 0.7035, 0.8435, 0.7095, 0.8573, 0.7939, 0.0545,\n",
       "          0.8590, 0.7255],\n",
       "         [0.8406, 0.5532, 0.4146, 0.3808, 0.0777, 0.8394, 0.1169, 0.4447,\n",
       "          0.2544, 0.3983],\n",
       "         [0.9711, 0.3279, 0.4337, 0.7557, 0.1906, 0.6873, 0.7810, 0.6708,\n",
       "          0.1370, 0.9698],\n",
       "         [0.9962, 0.7783, 0.5215, 0.2413, 0.2472, 0.9008, 0.4640, 0.2661,\n",
       "          0.3255, 0.1718],\n",
       "         [0.2742, 0.5558, 0.8122, 0.7608, 0.3129, 0.6925, 0.9170, 0.4786,\n",
       "          0.2705, 0.2930],\n",
       "         [0.2946, 0.6900, 0.8525, 0.0029, 0.4393, 0.6477, 0.1156, 0.5181,\n",
       "          0.4160, 0.6755],\n",
       "         [0.6679, 0.2686, 0.0567, 0.5600, 0.7845, 0.9124, 0.0492, 0.8888,\n",
       "          0.3522, 0.0351],\n",
       "         [0.0778, 0.4552, 0.5218, 0.9729, 0.7904, 0.6739, 0.6315, 0.9256,\n",
       "          0.4524, 0.6029],\n",
       "         [0.1555, 0.4718, 0.5051, 0.0537, 0.6211, 0.0840, 0.9000, 0.9369,\n",
       "          0.4219, 0.5087],\n",
       "         [0.2073, 0.0194, 0.6556, 0.4871, 0.8067, 0.8902, 0.0019, 0.8300,\n",
       "          0.9414, 0.0160]]])"
      ]
     },
     "execution_count": 21,
     "metadata": {},
     "output_type": "execute_result"
    }
   ],
   "source": [
    "random_tensor"
   ]
  },
  {
   "cell_type": "code",
   "execution_count": 25,
   "id": "eb85406a-b749-4263-96ce-886e376c66ca",
   "metadata": {},
   "outputs": [],
   "source": [
    "#create a random tensor with a similar shape to an image tensor\n",
    "random_img_tensor = torch.rand(size = (224, 224, 3))\n",
    "# the first parameter denotes the height, the second denotes the width and the third denotes the number of color channels RGB"
   ]
  },
  {
   "cell_type": "code",
   "execution_count": 28,
   "id": "4f9d2c15-510b-4286-bd9a-ce568818d54d",
   "metadata": {},
   "outputs": [
    {
     "data": {
      "text/plain": [
       "(torch.Size([224, 224, 3]), 3)"
      ]
     },
     "execution_count": 28,
     "metadata": {},
     "output_type": "execute_result"
    }
   ],
   "source": [
    "random_img_tensor.shape, random_img_tensor.ndim"
   ]
  },
  {
   "cell_type": "markdown",
   "id": "7023ac1b-414a-49cf-92a3-c5f1538cdea8",
   "metadata": {},
   "source": [
    "### zeros and ones"
   ]
  },
  {
   "cell_type": "code",
   "execution_count": 29,
   "id": "eba77e4a-ca08-4950-b815-1479d756a54d",
   "metadata": {},
   "outputs": [],
   "source": [
    "zeros = torch.zeros(size=(3,4))"
   ]
  },
  {
   "cell_type": "code",
   "execution_count": 30,
   "id": "dc7448b5-b99f-436d-b1ed-67cf0612a4f8",
   "metadata": {},
   "outputs": [
    {
     "data": {
      "text/plain": [
       "tensor([[0., 0., 0., 0.],\n",
       "        [0., 0., 0., 0.],\n",
       "        [0., 0., 0., 0.]])"
      ]
     },
     "execution_count": 30,
     "metadata": {},
     "output_type": "execute_result"
    }
   ],
   "source": [
    "zeros"
   ]
  },
  {
   "cell_type": "code",
   "execution_count": 32,
   "id": "bf7d6c76-8a7e-45bf-87e1-cde040a3a592",
   "metadata": {},
   "outputs": [
    {
     "data": {
      "text/plain": [
       "tensor([[1., 1., 1., 1.],\n",
       "        [1., 1., 1., 1.],\n",
       "        [1., 1., 1., 1.]])"
      ]
     },
     "execution_count": 32,
     "metadata": {},
     "output_type": "execute_result"
    }
   ],
   "source": [
    "ones = torch.ones(size=(3,4))\n",
    "ones"
   ]
  },
  {
   "cell_type": "markdown",
   "id": "c0f31ad0-8abf-4497-bb74-33e598db719e",
   "metadata": {},
   "source": [
    "### creating range of tensors and tensor-like"
   ]
  },
  {
   "cell_type": "code",
   "execution_count": 34,
   "id": "4f235cc9-260b-43e7-9e13-1f13691aa862",
   "metadata": {},
   "outputs": [
    {
     "data": {
      "text/plain": [
       "tensor([ 1,  2,  3,  4,  5,  6,  7,  8,  9, 10])"
      ]
     },
     "execution_count": 34,
     "metadata": {},
     "output_type": "execute_result"
    }
   ],
   "source": [
    "one_to_ten = torch.arange(start=1, end=11, step=1)\n",
    "one_to_ten"
   ]
  },
  {
   "cell_type": "code",
   "execution_count": 35,
   "id": "a29db086-e5a3-4615-9310-f3d54ad316b5",
   "metadata": {},
   "outputs": [
    {
     "data": {
      "text/plain": [
       "tensor([0, 0, 0, 0, 0, 0, 0, 0, 0, 0])"
      ]
     },
     "execution_count": 35,
     "metadata": {},
     "output_type": "execute_result"
    }
   ],
   "source": [
    "ten_zeros = torch.zeros_like(input = one_to_ten)\n",
    "ten_zeros"
   ]
  },
  {
   "cell_type": "markdown",
   "id": "800b3659-7c34-4ff3-8d9d-6463868c380b",
   "metadata": {},
   "source": [
    "### Tensor datatypes"
   ]
  },
  {
   "cell_type": "code",
   "execution_count": 40,
   "id": "25d41b18-e79c-4116-957b-44302dc2c3ca",
   "metadata": {},
   "outputs": [],
   "source": [
    "float16_tensor = torch.tensor([3.9, 9.2, 7.6], dtype=torch.float16)"
   ]
  },
  {
   "cell_type": "code",
   "execution_count": 41,
   "id": "1808680b-0285-4ff1-8033-47a737ae15f0",
   "metadata": {},
   "outputs": [
    {
     "data": {
      "text/plain": [
       "tensor([3.9004, 9.2031, 7.6016], dtype=torch.float16)"
      ]
     },
     "execution_count": 41,
     "metadata": {},
     "output_type": "execute_result"
    }
   ],
   "source": [
    "float16_tensor"
   ]
  },
  {
   "cell_type": "code",
   "execution_count": 42,
   "id": "a77e1436-cb5b-457b-8474-ac9a34a42f24",
   "metadata": {},
   "outputs": [],
   "source": [
    "int32_tensor = torch.tensor([3.9, 9.2, 7.6], dtype=torch.int32)"
   ]
  },
  {
   "cell_type": "code",
   "execution_count": 43,
   "id": "5bb13297-10fa-4446-ac46-6f250e94eb28",
   "metadata": {},
   "outputs": [
    {
     "data": {
      "text/plain": [
       "tensor([3, 9, 7], dtype=torch.int32)"
      ]
     },
     "execution_count": 43,
     "metadata": {},
     "output_type": "execute_result"
    }
   ],
   "source": [
    "int32_tensor"
   ]
  },
  {
   "cell_type": "code",
   "execution_count": 44,
   "id": "cd97a1fe-6475-4eed-b2fc-b8f41198bc59",
   "metadata": {},
   "outputs": [
    {
     "data": {
      "text/plain": [
       "tensor([11.7031, 82.8125, 53.2188], dtype=torch.float16)"
      ]
     },
     "execution_count": 44,
     "metadata": {},
     "output_type": "execute_result"
    }
   ],
   "source": [
    "float16_tensor * int32_tensor"
   ]
  },
  {
   "cell_type": "markdown",
   "id": "8e6b70ed-3863-4076-9a06-d3d626bef9dd",
   "metadata": {},
   "source": [
    "### manipulating tensors"
   ]
  },
  {
   "cell_type": "code",
   "execution_count": 46,
   "id": "e86b492f-1224-4a0b-ab83-da9ab70622f4",
   "metadata": {},
   "outputs": [
    {
     "data": {
      "text/plain": [
       "tensor([[[1, 2, 3],\n",
       "         [4, 5, 6],\n",
       "         [7, 8, 9]]])"
      ]
     },
     "execution_count": 46,
     "metadata": {},
     "output_type": "execute_result"
    }
   ],
   "source": [
    "tensors"
   ]
  },
  {
   "cell_type": "code",
   "execution_count": 47,
   "id": "f0b3e49a-9ef6-499b-80cc-8411139651b3",
   "metadata": {},
   "outputs": [
    {
     "data": {
      "text/plain": [
       "tensor([[[101, 102, 103],\n",
       "         [104, 105, 106],\n",
       "         [107, 108, 109]]])"
      ]
     },
     "execution_count": 47,
     "metadata": {},
     "output_type": "execute_result"
    }
   ],
   "source": [
    "tensors+100"
   ]
  },
  {
   "cell_type": "code",
   "execution_count": 51,
   "id": "c7347c4a-b7af-4dce-98cb-ea44a7b8599c",
   "metadata": {},
   "outputs": [
    {
     "data": {
      "text/plain": [
       "tensor([[[-99, -98, -97],\n",
       "         [-96, -95, -94],\n",
       "         [-93, -92, -91]]])"
      ]
     },
     "execution_count": 51,
     "metadata": {},
     "output_type": "execute_result"
    }
   ],
   "source": [
    "tensors-100"
   ]
  },
  {
   "cell_type": "code",
   "execution_count": 49,
   "id": "800b4743-10e1-4425-a54b-ff1a66e77445",
   "metadata": {},
   "outputs": [
    {
     "data": {
      "text/plain": [
       "tensor([[[100, 200, 300],\n",
       "         [400, 500, 600],\n",
       "         [700, 800, 900]]])"
      ]
     },
     "execution_count": 49,
     "metadata": {},
     "output_type": "execute_result"
    }
   ],
   "source": [
    "tensors*100"
   ]
  },
  {
   "cell_type": "code",
   "execution_count": 50,
   "id": "eb86048f-891a-4ab4-b340-3fc2f2c7e049",
   "metadata": {},
   "outputs": [
    {
     "data": {
      "text/plain": [
       "tensor([[[0.0100, 0.0200, 0.0300],\n",
       "         [0.0400, 0.0500, 0.0600],\n",
       "         [0.0700, 0.0800, 0.0900]]])"
      ]
     },
     "execution_count": 50,
     "metadata": {},
     "output_type": "execute_result"
    }
   ],
   "source": [
    "tensors/100"
   ]
  },
  {
   "cell_type": "markdown",
   "id": "c65c0850-92d1-46ca-999e-5534d7b0e4ed",
   "metadata": {},
   "source": [
    " ### matrix multiplication"
   ]
  },
  {
   "cell_type": "code",
   "execution_count": 53,
   "id": "73340e0b-6a2d-4a75-9cb7-3bed5169977c",
   "metadata": {},
   "outputs": [],
   "source": [
    "t1 = torch.tensor([[1, 2, 3, 4],\n",
    "                  [5, 6, 7, 8]])\n",
    "t2 = torch.tensor([[9, 8],\n",
    "                  [7, 6],\n",
    "                  [5, 4],\n",
    "                  [3, 2]])"
   ]
  },
  {
   "cell_type": "code",
   "execution_count": 54,
   "id": "c234ce15-2df0-4db5-b216-6a0675ba7603",
   "metadata": {},
   "outputs": [
    {
     "data": {
      "text/plain": [
       "(torch.Size([2, 4]), torch.Size([4, 2]))"
      ]
     },
     "execution_count": 54,
     "metadata": {},
     "output_type": "execute_result"
    }
   ],
   "source": [
    "t1.shape, t2.shape"
   ]
  },
  {
   "cell_type": "code",
   "execution_count": 55,
   "id": "d2a844df-7841-4c66-9332-8c9da655d5c4",
   "metadata": {},
   "outputs": [
    {
     "data": {
      "text/plain": [
       "tensor([[ 50,  40],\n",
       "        [146, 120]])"
      ]
     },
     "execution_count": 55,
     "metadata": {},
     "output_type": "execute_result"
    }
   ],
   "source": [
    "torch.matmul(t1, t2)"
   ]
  },
  {
   "cell_type": "code",
   "execution_count": 56,
   "id": "c35e5306-2045-4e3f-a927-b6b68f572c66",
   "metadata": {},
   "outputs": [
    {
     "data": {
      "text/plain": [
       "tensor([[ 49,  66,  83, 100],\n",
       "        [ 37,  50,  63,  76],\n",
       "        [ 25,  34,  43,  52],\n",
       "        [ 13,  18,  23,  28]])"
      ]
     },
     "execution_count": 56,
     "metadata": {},
     "output_type": "execute_result"
    }
   ],
   "source": [
    "torch.matmul(t2, t1)"
   ]
  },
  {
   "cell_type": "markdown",
   "id": "14c83e84-c64a-42d4-852f-60cfa9ef37e0",
   "metadata": {},
   "source": [
    "### finding min, max, mean and sum and etc(tensor aggregation)"
   ]
  },
  {
   "cell_type": "code",
   "execution_count": 61,
   "id": "d054cd6f-904a-4e5b-83fe-fda0c2c42862",
   "metadata": {},
   "outputs": [],
   "source": [
    "x = torch.arange(1, 100, 1)\n",
    "x = x.type(torch.float32)"
   ]
  },
  {
   "cell_type": "code",
   "execution_count": 62,
   "id": "5363f5cd-4cb3-4946-a336-e9593871f0d7",
   "metadata": {},
   "outputs": [
    {
     "data": {
      "text/plain": [
       "tensor(1.)"
      ]
     },
     "execution_count": 62,
     "metadata": {},
     "output_type": "execute_result"
    }
   ],
   "source": [
    "torch.min(x)"
   ]
  },
  {
   "cell_type": "code",
   "execution_count": 63,
   "id": "654dd0bf-64ad-47b7-8563-2b7171d4f976",
   "metadata": {},
   "outputs": [
    {
     "data": {
      "text/plain": [
       "tensor(99.)"
      ]
     },
     "execution_count": 63,
     "metadata": {},
     "output_type": "execute_result"
    }
   ],
   "source": [
    "torch.max(x)"
   ]
  },
  {
   "cell_type": "code",
   "execution_count": 64,
   "id": "aa59b8ca-b8f1-4342-be38-1a6698eda32a",
   "metadata": {},
   "outputs": [
    {
     "data": {
      "text/plain": [
       "tensor(50.)"
      ]
     },
     "execution_count": 64,
     "metadata": {},
     "output_type": "execute_result"
    }
   ],
   "source": [
    "torch.mean(x)"
   ]
  },
  {
   "cell_type": "code",
   "execution_count": 65,
   "id": "e32d32c3-6785-4885-9454-fb989544257f",
   "metadata": {},
   "outputs": [
    {
     "data": {
      "text/plain": [
       "tensor(4950.)"
      ]
     },
     "execution_count": 65,
     "metadata": {},
     "output_type": "execute_result"
    }
   ],
   "source": [
    "torch.sum(x)"
   ]
  },
  {
   "cell_type": "markdown",
   "id": "c1424b8b-fe5c-40e0-8985-00a46d9f324e",
   "metadata": {},
   "source": [
    "### finding positional min and max"
   ]
  },
  {
   "cell_type": "code",
   "execution_count": 66,
   "id": "37bcf573-acc8-42ab-a549-99b28c5d37d3",
   "metadata": {},
   "outputs": [
    {
     "data": {
      "text/plain": [
       "tensor(0)"
      ]
     },
     "execution_count": 66,
     "metadata": {},
     "output_type": "execute_result"
    }
   ],
   "source": [
    "x.argmin() #returns the index of the min value in the tensor"
   ]
  },
  {
   "cell_type": "code",
   "execution_count": 67,
   "id": "8802ccae-e0a4-458e-9640-f1d84dd74db6",
   "metadata": {},
   "outputs": [
    {
     "data": {
      "text/plain": [
       "tensor(98)"
      ]
     },
     "execution_count": 67,
     "metadata": {},
     "output_type": "execute_result"
    }
   ],
   "source": [
    "x.argmax()"
   ]
  },
  {
   "cell_type": "markdown",
   "id": "2bacfe85-59c4-4fba-9da4-9baaa75dcd44",
   "metadata": {},
   "source": [
    "### reshaping, viewing, squeezing and unsqueezing and stacking"
   ]
  },
  {
   "cell_type": "code",
   "execution_count": 71,
   "id": "7ce879d3-a426-4802-9639-5fba975f1938",
   "metadata": {},
   "outputs": [
    {
     "data": {
      "text/plain": [
       "tensor([[1, 2],\n",
       "        [3, 4],\n",
       "        [5, 6],\n",
       "        [7, 8]])"
      ]
     },
     "execution_count": 71,
     "metadata": {},
     "output_type": "execute_result"
    }
   ],
   "source": [
    "t1_reshape = t1.reshape(4, 2)\n",
    "t1_reshape"
   ]
  },
  {
   "cell_type": "code",
   "execution_count": 74,
   "id": "3a544199-1c68-4de6-a06a-9651cf988d94",
   "metadata": {},
   "outputs": [],
   "source": [
    "t1_view = t1.view(2, 4) #view shares the same memory as the original tensor, so making a change in the view will reflect in the original tensor"
   ]
  },
  {
   "cell_type": "code",
   "execution_count": 75,
   "id": "34e0768d-af7d-4c41-b33e-15bb4df56fb8",
   "metadata": {},
   "outputs": [],
   "source": [
    "t1_view[:, 3] = 4"
   ]
  },
  {
   "cell_type": "code",
   "execution_count": 76,
   "id": "5bbe4102-7838-45c1-b0e9-299da6702195",
   "metadata": {},
   "outputs": [
    {
     "data": {
      "text/plain": [
       "tensor([[1, 2, 3, 4],\n",
       "        [5, 6, 7, 4]])"
      ]
     },
     "execution_count": 76,
     "metadata": {},
     "output_type": "execute_result"
    }
   ],
   "source": [
    "t1_view"
   ]
  },
  {
   "cell_type": "code",
   "execution_count": 77,
   "id": "8e7db769-5356-44ed-99f3-3b4c728bfc40",
   "metadata": {},
   "outputs": [
    {
     "data": {
      "text/plain": [
       "tensor([[1, 2, 3, 4],\n",
       "        [5, 6, 7, 4]])"
      ]
     },
     "execution_count": 77,
     "metadata": {},
     "output_type": "execute_result"
    }
   ],
   "source": [
    "t1"
   ]
  },
  {
   "cell_type": "code",
   "execution_count": 81,
   "id": "000707f8-5bdf-4357-9d70-77fca7ff68ea",
   "metadata": {},
   "outputs": [],
   "source": [
    "t1_stack = torch.stack([t1, t1, t1], dim=0)"
   ]
  },
  {
   "cell_type": "code",
   "execution_count": 82,
   "id": "d4595c3b-b7de-4e99-b57c-c2f567c4f235",
   "metadata": {},
   "outputs": [
    {
     "data": {
      "text/plain": [
       "tensor([[[1, 2, 3, 4],\n",
       "         [5, 6, 7, 4]],\n",
       "\n",
       "        [[1, 2, 3, 4],\n",
       "         [5, 6, 7, 4]],\n",
       "\n",
       "        [[1, 2, 3, 4],\n",
       "         [5, 6, 7, 4]]])"
      ]
     },
     "execution_count": 82,
     "metadata": {},
     "output_type": "execute_result"
    }
   ],
   "source": [
    "t1_stack"
   ]
  },
  {
   "cell_type": "code",
   "execution_count": 83,
   "id": "3b47c8db-31ea-495b-87d3-c12c6ee49117",
   "metadata": {},
   "outputs": [],
   "source": [
    "t1_stack = torch.stack([t1, t1, t1], dim=1)"
   ]
  },
  {
   "cell_type": "code",
   "execution_count": 84,
   "id": "185f57c6-72f3-448d-895d-47ba0113968b",
   "metadata": {},
   "outputs": [
    {
     "data": {
      "text/plain": [
       "tensor([[[1, 2, 3, 4],\n",
       "         [1, 2, 3, 4],\n",
       "         [1, 2, 3, 4]],\n",
       "\n",
       "        [[5, 6, 7, 4],\n",
       "         [5, 6, 7, 4],\n",
       "         [5, 6, 7, 4]]])"
      ]
     },
     "execution_count": 84,
     "metadata": {},
     "output_type": "execute_result"
    }
   ],
   "source": [
    "t1_stack"
   ]
  },
  {
   "cell_type": "code",
   "execution_count": 85,
   "id": "6ecf72f8-6b27-4dad-b3b3-378f0ebcef8a",
   "metadata": {},
   "outputs": [],
   "source": [
    "t1_stack = torch.stack([t1, t1, t1], dim=2)"
   ]
  },
  {
   "cell_type": "code",
   "execution_count": 86,
   "id": "85b39d75-be7a-48ec-a245-8d2386f6b8d0",
   "metadata": {},
   "outputs": [
    {
     "data": {
      "text/plain": [
       "tensor([[[1, 1, 1],\n",
       "         [2, 2, 2],\n",
       "         [3, 3, 3],\n",
       "         [4, 4, 4]],\n",
       "\n",
       "        [[5, 5, 5],\n",
       "         [6, 6, 6],\n",
       "         [7, 7, 7],\n",
       "         [4, 4, 4]]])"
      ]
     },
     "execution_count": 86,
     "metadata": {},
     "output_type": "execute_result"
    }
   ],
   "source": [
    "t1_stack"
   ]
  },
  {
   "cell_type": "code",
   "execution_count": 87,
   "id": "11f754b0-6c82-4b8f-9045-c901dfa91f75",
   "metadata": {},
   "outputs": [
    {
     "data": {
      "text/plain": [
       "torch.Size([2, 1, 2, 1, 2])"
      ]
     },
     "execution_count": 87,
     "metadata": {},
     "output_type": "execute_result"
    }
   ],
   "source": [
    "x = torch.zeros(2,1,2,1,2)\n",
    "x.size()"
   ]
  },
  {
   "cell_type": "markdown",
   "id": "2da15940-ed76-4769-94f1-7d6a72fdce4f",
   "metadata": {},
   "source": [
    "#### torch.squeeze() - removes all single '1' dimensions from the target tensor"
   ]
  },
  {
   "cell_type": "code",
   "execution_count": 88,
   "id": "0f5cdbc2-e0cb-4be4-8c6a-19a8a4f26ec2",
   "metadata": {},
   "outputs": [
    {
     "data": {
      "text/plain": [
       "torch.Size([2, 2, 2])"
      ]
     },
     "execution_count": 88,
     "metadata": {},
     "output_type": "execute_result"
    }
   ],
   "source": [
    "y = torch.squeeze(x)\n",
    "y.size()"
   ]
  },
  {
   "cell_type": "code",
   "execution_count": 92,
   "id": "5b9bb030-555c-4ebf-861d-0d99ac32ed5e",
   "metadata": {},
   "outputs": [
    {
     "data": {
      "text/plain": [
       "torch.Size([2, 1, 2, 1, 2])"
      ]
     },
     "execution_count": 92,
     "metadata": {},
     "output_type": "execute_result"
    }
   ],
   "source": [
    "y = torch.squeeze(x, 0)\n",
    "y.size()\n",
    "#removes the single dimension from 0th position in the size"
   ]
  },
  {
   "cell_type": "code",
   "execution_count": 93,
   "id": "80e137a8-2dae-4710-9377-e27704360fd5",
   "metadata": {},
   "outputs": [
    {
     "data": {
      "text/plain": [
       "torch.Size([2, 2, 1, 2])"
      ]
     },
     "execution_count": 93,
     "metadata": {},
     "output_type": "execute_result"
    }
   ],
   "source": [
    "y = torch.squeeze(x, 1)\n",
    "y.size()\n",
    "#removess the single dimension from the 1th position in the size"
   ]
  },
  {
   "cell_type": "markdown",
   "id": "f0c0fb27-cab2-4161-ad93-92a7195eadf2",
   "metadata": {},
   "source": [
    "#### torch.unsqueeze() - adds a single '1' dimension to a target tensor at a specific dimension"
   ]
  },
  {
   "cell_type": "code",
   "execution_count": 94,
   "id": "aa5f3132-cc43-4a99-8a19-382ca68269c1",
   "metadata": {},
   "outputs": [
    {
     "data": {
      "text/plain": [
       "torch.Size([1, 2, 2, 1, 2])"
      ]
     },
     "execution_count": 94,
     "metadata": {},
     "output_type": "execute_result"
    }
   ],
   "source": [
    "y = torch.unsqueeze(y, 0)\n",
    "y.size()\n",
    "#adds single dimension to the 0th position"
   ]
  },
  {
   "cell_type": "code",
   "execution_count": 96,
   "id": "2b34754f-c864-45e3-9c07-3ce57f53a586",
   "metadata": {},
   "outputs": [
    {
     "data": {
      "text/plain": [
       "torch.Size([1, 1, 1, 2, 2, 1, 2])"
      ]
     },
     "execution_count": 96,
     "metadata": {},
     "output_type": "execute_result"
    }
   ],
   "source": [
    "y = torch.unsqueeze(y, 1)\n",
    "y.size()\n",
    "#adds single dimension to the 1th position"
   ]
  },
  {
   "cell_type": "markdown",
   "id": "f1b9b70f-96ad-4f79-8251-1e06e19154a3",
   "metadata": {},
   "source": [
    "#### torch.permute() function is used to rearrange the dimensions of a tensor"
   ]
  },
  {
   "cell_type": "code",
   "execution_count": 97,
   "id": "bff3bf5c-c4cd-486e-9778-07bd08f2eb47",
   "metadata": {},
   "outputs": [
    {
     "data": {
      "text/plain": [
       "torch.Size([2, 3, 5])"
      ]
     },
     "execution_count": 97,
     "metadata": {},
     "output_type": "execute_result"
    }
   ],
   "source": [
    "x = torch.randn(2,3,5)\n",
    "x.size()"
   ]
  },
  {
   "cell_type": "code",
   "execution_count": 100,
   "id": "bbb387c8-adb1-436a-b3cb-6314f0438783",
   "metadata": {},
   "outputs": [
    {
     "data": {
      "text/plain": [
       "torch.Size([5, 2, 3])"
      ]
     },
     "execution_count": 100,
     "metadata": {},
     "output_type": "execute_result"
    }
   ],
   "source": [
    "torch.permute(x, (2,0,1)).size() #2nd dimension is at 0th place, 0th dimension is at 1st place and 1st dimension is at 2nd place"
   ]
  },
  {
   "cell_type": "markdown",
   "id": "b96e6243-2c0f-4afd-a56a-fb502fefb919",
   "metadata": {},
   "source": [
    "### selecting data from tensors (indexing)"
   ]
  },
  {
   "cell_type": "code",
   "execution_count": 102,
   "id": "acb51465-2572-4e70-bc1a-28fecb6a1068",
   "metadata": {},
   "outputs": [
    {
     "data": {
      "text/plain": [
       "(tensor([[[1, 2, 3],\n",
       "          [4, 5, 6],\n",
       "          [7, 8, 9]]]),\n",
       " torch.Size([1, 3, 3]))"
      ]
     },
     "execution_count": 102,
     "metadata": {},
     "output_type": "execute_result"
    }
   ],
   "source": [
    "x = torch.arange(1, 10).reshape(1, 3, 3)\n",
    "x, x.shape"
   ]
  },
  {
   "cell_type": "code",
   "execution_count": 103,
   "id": "115b1bb5-e206-4ac7-a434-a7924a20fe3b",
   "metadata": {},
   "outputs": [
    {
     "data": {
      "text/plain": [
       "tensor([[1, 2, 3],\n",
       "        [4, 5, 6],\n",
       "        [7, 8, 9]])"
      ]
     },
     "execution_count": 103,
     "metadata": {},
     "output_type": "execute_result"
    }
   ],
   "source": [
    "x[0]"
   ]
  },
  {
   "cell_type": "code",
   "execution_count": 106,
   "id": "d81ddb80-f123-4d68-ac97-8b497e6093d8",
   "metadata": {},
   "outputs": [
    {
     "data": {
      "text/plain": [
       "(tensor([1, 2, 3]), tensor([4, 5, 6]), tensor([7, 8, 9]))"
      ]
     },
     "execution_count": 106,
     "metadata": {},
     "output_type": "execute_result"
    }
   ],
   "source": [
    "x[0, 0], x[0, 1], x[0, 2]"
   ]
  },
  {
   "cell_type": "code",
   "execution_count": 108,
   "id": "f9a7a7a2-539d-453a-ae39-82ca186909d5",
   "metadata": {},
   "outputs": [
    {
     "data": {
      "text/plain": [
       "(tensor(1), tensor(2), tensor(3), tensor(4), tensor(5))"
      ]
     },
     "execution_count": 108,
     "metadata": {},
     "output_type": "execute_result"
    }
   ],
   "source": [
    "x[0, 0, 0], x[0, 0, 1], x[0, 0, 2], x[0, 1, 0], x[0, 1, 1]"
   ]
  },
  {
   "cell_type": "markdown",
   "id": "7dd1dbbd-c0f8-42e7-be14-427c91bde3af",
   "metadata": {},
   "source": [
    "### PyTorch Tensors and NumPy"
   ]
  },
  {
   "cell_type": "markdown",
   "id": "90b438ba-47b3-45da-ba0d-0a3ae27928af",
   "metadata": {},
   "source": [
    "##### torch.from_numpy(ndarray) - NumPy array -> PyTorch tensor.\n",
    "##### torch.Tensor.numpy() - PyTorch tensor -> NumPy array."
   ]
  },
  {
   "cell_type": "code",
   "execution_count": 113,
   "id": "719653fc-0c47-45b7-a669-ae7df783fc17",
   "metadata": {},
   "outputs": [
    {
     "data": {
      "text/plain": [
       "(array([1., 2., 3., 4., 5., 6., 7., 8., 9.]),\n",
       " tensor([1., 2., 3., 4., 5., 6., 7., 8., 9.], dtype=torch.float64))"
      ]
     },
     "execution_count": 113,
     "metadata": {},
     "output_type": "execute_result"
    }
   ],
   "source": [
    "nparr = np.arange(1.0, 10.0)\n",
    "tensnp = torch.from_numpy(nparr) #converting np array to tensor\n",
    "nparr, tensnp"
   ]
  },
  {
   "cell_type": "code",
   "execution_count": 114,
   "id": "cd85e49b-ec96-4250-b02e-e68927ddda21",
   "metadata": {},
   "outputs": [
    {
     "data": {
      "text/plain": [
       "array([1., 2., 3., 4., 5., 6., 7., 8., 9.])"
      ]
     },
     "execution_count": 114,
     "metadata": {},
     "output_type": "execute_result"
    }
   ],
   "source": [
    "nptens = tensnp.numpy() #converting tensor to np array\n",
    "nptens"
   ]
  },
  {
   "cell_type": "markdown",
   "id": "a6d0a645-b067-4563-804a-07d313348c10",
   "metadata": {},
   "source": [
    "###  Reproducibility (trying to take the random out of random"
   ]
  },
  {
   "cell_type": "code",
   "execution_count": 115,
   "id": "c6965fa0-d4fb-4d6c-bc4b-cbcd1aa97112",
   "metadata": {},
   "outputs": [
    {
     "name": "stdout",
     "output_type": "stream",
     "text": [
      "Tensor A:\n",
      "tensor([[0.2888, 0.7797, 0.1902, 0.0087],\n",
      "        [0.2103, 0.3258, 0.7130, 0.1701],\n",
      "        [0.4072, 0.6640, 0.4310, 0.5891]])\n",
      "\n",
      "Tensor B:\n",
      "tensor([[0.7877, 0.4516, 0.2231, 0.9750],\n",
      "        [0.8885, 0.2240, 0.4206, 0.9854],\n",
      "        [0.6128, 0.2512, 0.7872, 0.6909]])\n",
      "\n",
      "Does Tensor A equal Tensor B? (anywhere)\n"
     ]
    },
    {
     "data": {
      "text/plain": [
       "tensor([[False, False, False, False],\n",
       "        [False, False, False, False],\n",
       "        [False, False, False, False]])"
      ]
     },
     "execution_count": 115,
     "metadata": {},
     "output_type": "execute_result"
    }
   ],
   "source": [
    "# Create two random tensors\n",
    "random_tensor_A = torch.rand(3, 4)\n",
    "random_tensor_B = torch.rand(3, 4)\n",
    "\n",
    "print(f\"Tensor A:\\n{random_tensor_A}\\n\")\n",
    "print(f\"Tensor B:\\n{random_tensor_B}\\n\")\n",
    "print(f\"Does Tensor A equal Tensor B? (anywhere)\")\n",
    "random_tensor_A == random_tensor_B"
   ]
  },
  {
   "cell_type": "code",
   "execution_count": 116,
   "id": "575d91d6-0a2c-49f5-b24d-0782fcc6b79d",
   "metadata": {},
   "outputs": [
    {
     "name": "stdout",
     "output_type": "stream",
     "text": [
      "Tensor C:\n",
      "tensor([[0.8823, 0.9150, 0.3829, 0.9593],\n",
      "        [0.3904, 0.6009, 0.2566, 0.7936],\n",
      "        [0.9408, 0.1332, 0.9346, 0.5936]])\n",
      "\n",
      "Tensor D:\n",
      "tensor([[0.8823, 0.9150, 0.3829, 0.9593],\n",
      "        [0.3904, 0.6009, 0.2566, 0.7936],\n",
      "        [0.9408, 0.1332, 0.9346, 0.5936]])\n",
      "\n",
      "Does Tensor C equal Tensor D? (anywhere)\n"
     ]
    },
    {
     "data": {
      "text/plain": [
       "tensor([[True, True, True, True],\n",
       "        [True, True, True, True],\n",
       "        [True, True, True, True]])"
      ]
     },
     "execution_count": 116,
     "metadata": {},
     "output_type": "execute_result"
    }
   ],
   "source": [
    "RANDOM_SEED=42\n",
    "torch.manual_seed(seed=RANDOM_SEED) \n",
    "random_tensor_C = torch.rand(3, 4)\n",
    "\n",
    "# Have to reset the seed every time a new rand() is called \n",
    "# Without this, tensor_D would be different to tensor_C \n",
    "torch.random.manual_seed(seed=RANDOM_SEED)\n",
    "random_tensor_D = torch.rand(3, 4)\n",
    "\n",
    "print(f\"Tensor C:\\n{random_tensor_C}\\n\")\n",
    "print(f\"Tensor D:\\n{random_tensor_D}\\n\")\n",
    "print(f\"Does Tensor C equal Tensor D? (anywhere)\")\n",
    "random_tensor_C == random_tensor_D"
   ]
  },
  {
   "cell_type": "markdown",
   "id": "000c5041-f332-4f90-a144-f3174a65d76e",
   "metadata": {},
   "source": [
    "To check if we've got access to a Nvidia GPU, we can run !nvidia-smi where the ! (also called bang) means \"run this on the command line\"."
   ]
  },
  {
   "cell_type": "code",
   "execution_count": 117,
   "id": "17fa8168-9383-4855-9e6b-e3a05b1b5e60",
   "metadata": {},
   "outputs": [
    {
     "name": "stdout",
     "output_type": "stream",
     "text": [
      "Sat Apr 13 22:42:55 2024       \n",
      "+---------------------------------------------------------------------------------------+\n",
      "| NVIDIA-SMI 531.68                 Driver Version: 531.68       CUDA Version: 12.1     |\n",
      "|-----------------------------------------+----------------------+----------------------+\n",
      "| GPU  Name                      TCC/WDDM | Bus-Id        Disp.A | Volatile Uncorr. ECC |\n",
      "| Fan  Temp  Perf            Pwr:Usage/Cap|         Memory-Usage | GPU-Util  Compute M. |\n",
      "|                                         |                      |               MIG M. |\n",
      "|=========================================+======================+======================|\n",
      "|   0  NVIDIA GeForce GTX 1650       WDDM | 00000000:01:00.0 Off |                  N/A |\n",
      "| N/A   42C    P8                4W /  N/A|      0MiB /  4096MiB |      0%      Default |\n",
      "|                                         |                      |                  N/A |\n",
      "+-----------------------------------------+----------------------+----------------------+\n",
      "                                                                                         \n",
      "+---------------------------------------------------------------------------------------+\n",
      "| Processes:                                                                            |\n",
      "|  GPU   GI   CI        PID   Type   Process name                            GPU Memory |\n",
      "|        ID   ID                                                             Usage      |\n",
      "|=======================================================================================|\n",
      "|  No running processes found                                                           |\n",
      "+---------------------------------------------------------------------------------------+\n"
     ]
    }
   ],
   "source": [
    "!nvidia-smi"
   ]
  },
  {
   "cell_type": "code",
   "execution_count": null,
   "id": "5553cef5-a66d-43d5-b82a-d25d39d57eae",
   "metadata": {},
   "outputs": [],
   "source": []
  }
 ],
 "metadata": {
  "kernelspec": {
   "display_name": "Python 3 (ipykernel)",
   "language": "python",
   "name": "python3"
  },
  "language_info": {
   "codemirror_mode": {
    "name": "ipython",
    "version": 3
   },
   "file_extension": ".py",
   "mimetype": "text/x-python",
   "name": "python",
   "nbconvert_exporter": "python",
   "pygments_lexer": "ipython3",
   "version": "3.11.4"
  }
 },
 "nbformat": 4,
 "nbformat_minor": 5
}
